{
 "cells": [
  {
   "cell_type": "code",
   "execution_count": 10,
   "metadata": {},
   "outputs": [],
   "source": [
    "import pandas as pd\n",
    "import numpy as np\n",
    "from sklearn.linear_model import LinearRegression\n",
    "import ssl\n",
    "ssl._create_default_https_context = ssl._create_unverified_context\n",
    "import matplotlib.pyplot as plt"
   ]
  },
  {
   "cell_type": "markdown",
   "metadata": {},
   "source": [
    "# Concentrate en lo siguiente:\n",
    " - Análisis de información\n",
    " - Teoría Económica / Matemática\n",
    " - Técnicas Estadísticas/Econométricas"
   ]
  },
  {
   "cell_type": "markdown",
   "metadata": {},
   "source": [
    "# Regresión Líneal"
   ]
  },
  {
   "cell_type": "markdown",
   "metadata": {},
   "source": [
    "$$y = f(x_1, ..., x_K) + \\epsilon$$\n",
    "\n",
    "El regressand y los regressors y un término de error.\n",
    "\n",
    "Si tenemos n ob servaciones y k regresores, tenemos la siguiente ecuación:\n",
    "\n",
    "$$y_i = \\beta_0 + \\beta_1x_i1 +  \\dots  + \\beta_Kx_iK + \\epsilon_i$$"
   ]
  },
  {
   "cell_type": "code",
   "execution_count": 19,
   "metadata": {},
   "outputs": [
    {
     "data": {
      "text/html": [
       "<div>\n",
       "<style scoped>\n",
       "    .dataframe tbody tr th:only-of-type {\n",
       "        vertical-align: middle;\n",
       "    }\n",
       "\n",
       "    .dataframe tbody tr th {\n",
       "        vertical-align: top;\n",
       "    }\n",
       "\n",
       "    .dataframe thead th {\n",
       "        text-align: right;\n",
       "    }\n",
       "</style>\n",
       "<table border=\"1\" class=\"dataframe\">\n",
       "  <thead>\n",
       "    <tr style=\"text-align: right;\">\n",
       "      <th></th>\n",
       "      <th>YEAR</th>\n",
       "      <th>X</th>\n",
       "      <th>C</th>\n",
       "      <th>W</th>\n",
       "    </tr>\n",
       "  </thead>\n",
       "  <tbody>\n",
       "    <tr>\n",
       "      <th>0</th>\n",
       "      <td>1940</td>\n",
       "      <td>241</td>\n",
       "      <td>226</td>\n",
       "      <td>0</td>\n",
       "    </tr>\n",
       "    <tr>\n",
       "      <th>1</th>\n",
       "      <td>1941</td>\n",
       "      <td>280</td>\n",
       "      <td>240</td>\n",
       "      <td>0</td>\n",
       "    </tr>\n",
       "    <tr>\n",
       "      <th>2</th>\n",
       "      <td>1942</td>\n",
       "      <td>319</td>\n",
       "      <td>235</td>\n",
       "      <td>1</td>\n",
       "    </tr>\n",
       "    <tr>\n",
       "      <th>3</th>\n",
       "      <td>1943</td>\n",
       "      <td>331</td>\n",
       "      <td>245</td>\n",
       "      <td>1</td>\n",
       "    </tr>\n",
       "    <tr>\n",
       "      <th>4</th>\n",
       "      <td>1944</td>\n",
       "      <td>345</td>\n",
       "      <td>255</td>\n",
       "      <td>1</td>\n",
       "    </tr>\n",
       "    <tr>\n",
       "      <th>5</th>\n",
       "      <td>1945</td>\n",
       "      <td>340</td>\n",
       "      <td>265</td>\n",
       "      <td>1</td>\n",
       "    </tr>\n",
       "    <tr>\n",
       "      <th>6</th>\n",
       "      <td>1946</td>\n",
       "      <td>332</td>\n",
       "      <td>295</td>\n",
       "      <td>0</td>\n",
       "    </tr>\n",
       "    <tr>\n",
       "      <th>7</th>\n",
       "      <td>1947</td>\n",
       "      <td>320</td>\n",
       "      <td>300</td>\n",
       "      <td>0</td>\n",
       "    </tr>\n",
       "    <tr>\n",
       "      <th>8</th>\n",
       "      <td>1948</td>\n",
       "      <td>339</td>\n",
       "      <td>305</td>\n",
       "      <td>0</td>\n",
       "    </tr>\n",
       "    <tr>\n",
       "      <th>9</th>\n",
       "      <td>1949</td>\n",
       "      <td>338</td>\n",
       "      <td>315</td>\n",
       "      <td>0</td>\n",
       "    </tr>\n",
       "    <tr>\n",
       "      <th>10</th>\n",
       "      <td>1950</td>\n",
       "      <td>371</td>\n",
       "      <td>325</td>\n",
       "      <td>0</td>\n",
       "    </tr>\n",
       "  </tbody>\n",
       "</table>\n",
       "</div>"
      ],
      "text/plain": [
       "    YEAR    X    C  W \n",
       "0   1940  241  226   0\n",
       "1   1941  280  240   0\n",
       "2   1942  319  235   1\n",
       "3   1943  331  245   1\n",
       "4   1944  345  255   1\n",
       "5   1945  340  265   1\n",
       "6   1946  332  295   0\n",
       "7   1947  320  300   0\n",
       "8   1948  339  305   0\n",
       "9   1949  338  315   0\n",
       "10  1950  371  325   0"
      ]
     },
     "execution_count": 19,
     "metadata": {},
     "output_type": "execute_result"
    }
   ],
   "source": [
    "consumo"
   ]
  },
  {
   "cell_type": "code",
   "execution_count": 25,
   "metadata": {},
   "outputs": [
    {
     "data": {
      "image/png": "[encoded data removed]",
      "text/plain": [
       "<Figure size 640x480 with 1 Axes>"
      ]
     },
     "metadata": {},
     "output_type": "display_data"
    }
   ],
   "source": [
    "consumo = pd.read_csv(r\"https://people.stern.nyu.edu/wgreene/Text/Edition7/TableF2-1.csv\")\n",
    "fig, ax = plt.subplots()\n",
    "ax.scatter(x=consumo.loc[consumo['W ']==1, 'X'], y=consumo.loc[consumo['W ']==1, 'C'], label='W = 1', color='blue')\n",
    "ax.scatter(x=consumo.loc[consumo['W ']==0, 'X'], y=consumo.loc[consumo['W ']==0, 'C'], label='W = 0', color='red')\n",
    "ax.set_xlabel('X')\n",
    "ax.set_ylabel('C')\n",
    "ax.legend()\n",
    "plt.show()"
   ]
  },
  {
   "cell_type": "markdown",
   "metadata": {},
   "source": [
    "## Supuestos del modelo lineal"
   ]
  },
  {
   "cell_type": "markdown",
   "metadata": {},
   "source": [
    " - Linealidad en el modelo: existe una relación lineal entre objetivo y predictores.\n",
    " $$\\bold y  = \\bold X \\bold \\beta + \\bold \\epsilon$$\n",
    " - Rango completo: Los regresores forman un conjunto linealmente independiente, en sentido que ningún predictor puede ser expresado como una combinación líneal de los otros.\n",
    " $$\\sum{a_iXi} = 0$$\n",
    "  si y solo si todas las $a_i$'s son cero \n",
    " - Exogeneidad de las variables independientes: el valor esperado del término de error no es una función de las variables independientes, es decir, que las variables independientes no contienen información para predecir el término de error. $$E[\\epsilon | x_i, i = 1,...K] = 0$$ lo cual significa que las variables independientes no tienen información sobre el término de error.\n",
    " - Homocedasticidad y no autocorrelación:$$Var(\\epsilon_i | X) = \\sigma^2$$ $$corr(\\epsilon_i,\\epsilon_j) = 0$$\n",
    " - Generación de los datos: los datos de las variables independienters son una mezcla de de variables aleatorias y constantes.\n",
    " - El término de error se distribuye normalmente.\n",
    " $$\\epsilon_i \\sim N(0,\\sigma^2)$$"
   ]
  },
  {
   "cell_type": "markdown",
   "metadata": {},
   "source": [
    "# Minimos Cuadrados"
   ]
  },
  {
   "cell_type": "markdown",
   "metadata": {},
   "source": []
  }
 ],
 "metadata": {
  "kernelspec": {
   "display_name": "py_tf",
   "language": "python",
   "name": "python3"
  },
  "language_info": {
   "codemirror_mode": {
    "name": "ipython",
    "version": 3
   },
   "file_extension": ".py",
   "mimetype": "text/x-python",
   "name": "python",
   "nbconvert_exporter": "python",
   "pygments_lexer": "ipython3",
   "version": "3.8.20"
  }
 },
 "nbformat": 4,
 "nbformat_minor": 2
}
